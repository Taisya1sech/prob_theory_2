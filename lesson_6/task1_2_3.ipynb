{
 "cells": [
  {
   "cell_type": "code",
   "execution_count": 1,
   "id": "db60e264",
   "metadata": {},
   "outputs": [],
   "source": [
    "# Задача 1"
   ]
  },
  {
   "cell_type": "code",
   "execution_count": 36,
   "id": "e3d9a67a",
   "metadata": {},
   "outputs": [],
   "source": [
    "\n",
    "import pandas as pd\n",
    "import numpy as np\n",
    "from statsmodels.stats.weightstats import _tconfint_generic as t_stat\n"
   ]
  },
  {
   "cell_type": "code",
   "execution_count": 4,
   "id": "b1c3da66",
   "metadata": {},
   "outputs": [
    {
     "data": {
      "text/plain": [
       "0    9157.84\n",
       "dtype: float64"
      ]
     },
     "execution_count": 4,
     "metadata": {},
     "output_type": "execute_result"
    }
   ],
   "source": [
    "X = pd.DataFrame([35, 45, 190, 200, 40, 70, 54, 150, 120, 110])\n",
    "Y = pd.DataFrame([401, 574, 874, 919, 459, 739, 653, 902, 746, 832])\n",
    "\n",
    "\n",
    "MX = X.mean()\n",
    "MY = Y.mean()\n",
    "\n",
    "cov = ((X - MX) * (Y - MY)).mean() # ковариация по формуле\n",
    "cov"
   ]
  },
  {
   "cell_type": "code",
   "execution_count": 20,
   "id": "546e7a9a",
   "metadata": {},
   "outputs": [
    {
     "data": {
      "text/plain": [
       "3494.6400000000003"
      ]
     },
     "execution_count": 20,
     "metadata": {},
     "output_type": "execute_result"
    }
   ],
   "source": [
    "cov = (X * Y).mean() - MX * MY # ковариация по формуле\n",
    "cov"
   ]
  },
  {
   "cell_type": "code",
   "execution_count": 21,
   "id": "5b071b43",
   "metadata": {},
   "outputs": [
    {
     "data": {
      "text/plain": [
       "30468.890000000007"
      ]
     },
     "execution_count": 21,
     "metadata": {},
     "output_type": "execute_result"
    }
   ],
   "source": [
    "X[0].var(ddof=0) # дисперсия"
   ]
  },
  {
   "cell_type": "code",
   "execution_count": 26,
   "id": "3f9262be",
   "metadata": {},
   "outputs": [
    {
     "data": {
      "text/plain": [
       "0    0.798741\n",
       "dtype: float64"
      ]
     },
     "execution_count": 26,
     "metadata": {},
     "output_type": "execute_result"
    }
   ],
   "source": [
    "Y[0].var(ddof=0) # дисперсия"
   ]
  },
  {
   "cell_type": "code",
   "execution_count": 27,
   "id": "9d0476c6",
   "metadata": {},
   "outputs": [],
   "source": [
    "corr = cov / (X.std() * Y.std()) # коэффициент корреляции Пирсона по формуле\n",
    "corr"
   ]
  },
  {
   "cell_type": "code",
   "execution_count": 29,
   "id": "6716a4bd",
   "metadata": {},
   "outputs": [],
   "source": [
    "X = [35, 45, 190, 200, 40, 70, 54, 150, 120, 110]\n",
    "Y = [401, 574, 874, 919, 459, 739, 653, 902, 746, 832]"
   ]
  },
  {
   "cell_type": "code",
   "execution_count": 30,
   "id": "a90e92bc",
   "metadata": {},
   "outputs": [
    {
     "data": {
      "text/plain": [
       "array([[ 3494.64,  9157.84],\n",
       "       [ 9157.84, 30468.89]])"
      ]
     },
     "execution_count": 30,
     "metadata": {},
     "output_type": "execute_result"
    }
   ],
   "source": [
    "cov = np.cov(X, Y, ddof=0) # ковариация с помощью функции\n",
    "cov"
   ]
  },
  {
   "cell_type": "code",
   "execution_count": 31,
   "id": "4aee661e",
   "metadata": {},
   "outputs": [
    {
     "data": {
      "text/plain": [
       "array([[1.        , 0.88749009],\n",
       "       [0.88749009, 1.        ]])"
      ]
     },
     "execution_count": 31,
     "metadata": {},
     "output_type": "execute_result"
    }
   ],
   "source": [
    "np.corrcoef(X, Y) # коэффициент корреляции Пирсона с помощью функции"
   ]
  },
  {
   "cell_type": "code",
   "execution_count": 32,
   "id": "5d9ba68a",
   "metadata": {},
   "outputs": [],
   "source": [
    "# Задача 2"
   ]
  },
  {
   "cell_type": "code",
   "execution_count": 39,
   "id": "59d03703",
   "metadata": {},
   "outputs": [],
   "source": [
    "X = np.array([131.0, 125.0, 115.0, 122.0, 131.0, 115.0, 107.0, 99.0, 125.0, 111.0])\n",
    "mean_X = X.mean()\n",
    "std_X = X.std(ddof=1)\n",
    "mean_std_X = std_X / (np.sqrt(len(X)))"
   ]
  },
  {
   "cell_type": "code",
   "execution_count": 40,
   "id": "960b7ef5",
   "metadata": {},
   "outputs": [
    {
     "data": {
      "text/plain": [
       "(110.55608365158724, 125.64391634841274)"
      ]
     },
     "execution_count": 40,
     "metadata": {},
     "output_type": "execute_result"
    }
   ],
   "source": [
    "t_stat(mean_X, mean_std_X,len(X) - 1, 0.05, 'two-sided')"
   ]
  },
  {
   "cell_type": "code",
   "execution_count": 41,
   "id": "d2cef081",
   "metadata": {},
   "outputs": [],
   "source": [
    "# Задача 3"
   ]
  },
  {
   "cell_type": "code",
   "execution_count": 42,
   "id": "530c3f84",
   "metadata": {},
   "outputs": [],
   "source": [
    "mean_X = 174.2\n",
    "std_X = np.sqrt(25)\n",
    "mean_std_X = std_X / np.sqrt(27)"
   ]
  },
  {
   "cell_type": "code",
   "execution_count": 43,
   "id": "3439ee1c",
   "metadata": {},
   "outputs": [
    {
     "data": {
      "text/plain": [
       "(172.2220658754539, 176.17793412454608)"
      ]
     },
     "execution_count": 43,
     "metadata": {},
     "output_type": "execute_result"
    }
   ],
   "source": [
    "t_stat(mean_X, mean_std_X,27 - 1, 0.05, 'two-sided')"
   ]
  },
  {
   "cell_type": "code",
   "execution_count": null,
   "id": "e195078d",
   "metadata": {},
   "outputs": [],
   "source": []
  }
 ],
 "metadata": {
  "kernelspec": {
   "display_name": "Python 3 (ipykernel)",
   "language": "python",
   "name": "python3"
  },
  "language_info": {
   "codemirror_mode": {
    "name": "ipython",
    "version": 3
   },
   "file_extension": ".py",
   "mimetype": "text/x-python",
   "name": "python",
   "nbconvert_exporter": "python",
   "pygments_lexer": "ipython3",
   "version": "3.9.2"
  }
 },
 "nbformat": 4,
 "nbformat_minor": 5
}
