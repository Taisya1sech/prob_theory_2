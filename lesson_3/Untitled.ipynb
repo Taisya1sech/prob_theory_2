{
 "cells": [
  {
   "cell_type": "code",
   "execution_count": 1,
   "id": "1c1a74af",
   "metadata": {},
   "outputs": [],
   "source": [
    "#Задание 1"
   ]
  },
  {
   "cell_type": "code",
   "execution_count": 2,
   "id": "f4dfe4b1",
   "metadata": {},
   "outputs": [],
   "source": [
    "import warnings\n",
    "import numpy as np\n",
    "import pandas as pd\n",
    "from matplotlib import pyplot as plt\n",
    "\n",
    "\n",
    "warnings.filterwarnings('ignore')"
   ]
  },
  {
   "cell_type": "code",
   "execution_count": 5,
   "id": "b46270b5",
   "metadata": {},
   "outputs": [
    {
     "name": "stdout",
     "output_type": "stream",
     "text": [
      "The average is =  65.3\n"
     ]
    }
   ],
   "source": [
    "listnumbers = [100, 80, 75, 77, 89, 33, 45, 25, 65, 17, 30, 24, 57, 55, 70, 75, \n",
    "65, 84, 90, 150]\n",
    "\n",
    "\n",
    "#задание 1.1 (среднее арифметическое)\n",
    "print(\"The average is = \", sum(listnumbers) / len(listnumbers))"
   ]
  },
  {
   "cell_type": "code",
   "execution_count": 6,
   "id": "c968c088",
   "metadata": {},
   "outputs": [
    {
     "name": "stdout",
     "output_type": "stream",
     "text": [
      "The standart deviation is =  30.823854398825596\n",
      "The biased dispersion is =  950.11\n",
      "The unbiased dispersion is =  1000.1157894736843\n"
     ]
    }
   ],
   "source": [
    "listnumbers = pd.DataFrame([100, 80, 75, 77, 89, 33, 45, 25, 65, 17, 30, 24, 57, 55, 70, 75, \n",
    "65, 84, 90, 150])\n",
    "\n",
    "y = listnumbers[0].count() # количество элементов в выборке\n",
    "x = listnumbers[0].sum() / y # среднее арифметическое\n",
    "sigma = np.sqrt(((listnumbers[0] - x)**2).sum()/ y) \n",
    "D_biased = sigma**2\n",
    "D_unbiased = (np.sqrt(((listnumbers[0] - x)**2).sum()/ (y - 1)))**2\n",
    "\n",
    "# задание 1.2 (среднее квадратичное отклонение)\n",
    "print(\"The standart deviation is = \", np.sqrt(((listnumbers[0] - x)**2).sum()/ y))\n",
    "\n",
    "# задание 1.3 (смещенная дисперсия)\n",
    "print(\"The biased dispersion is = \", D_biased) \n",
    "\n",
    "# задание 1.4  (несмещенная дисперсия)\n",
    "print(\"The unbiased dispersion is = \", D_unbiased)\n"
   ]
  },
  {
   "cell_type": "code",
   "execution_count": 7,
   "id": "6338965a",
   "metadata": {},
   "outputs": [],
   "source": [
    "#Проверка статистическими методами (к заданию 1)"
   ]
  },
  {
   "cell_type": "code",
   "execution_count": 8,
   "id": "a36353f3",
   "metadata": {},
   "outputs": [
    {
     "name": "stdout",
     "output_type": "stream",
     "text": [
      "The average is = 65.3\n",
      "The standart deviation is =  30.823854398825596\n"
     ]
    }
   ],
   "source": [
    "listnumbers = [100, 80, 75, 77, 89, 33, 45, 25, 65, 17, 30, 24, 57, 55, 70, 75, \n",
    "65, 84, 90, 150]\n",
    "\n",
    "#проверка 1.1 (среднее арифметическое)\n",
    "print (\"The average is =\",np.mean(listnumbers)) \n",
    "\n",
    "#проверка 1.2 (среднее квадратичное отклонение)\n",
    "print (\"The standart deviation is = \", np.std(listnumbers))"
   ]
  },
  {
   "cell_type": "code",
   "execution_count": 9,
   "id": "c9aab9aa",
   "metadata": {},
   "outputs": [
    {
     "name": "stdout",
     "output_type": "stream",
     "text": [
      "The biased dispersion is =  950.11\n",
      "The unbiased dispersion is =  1000.1157894736842\n"
     ]
    }
   ],
   "source": [
    "listnumbers = pd.DataFrame([100, 80, 75, 77, 89, 33, 45, 25, 65, 17, 30, 24, 57, 55, 70, 75, \n",
    "65, 84, 90, 150])\n",
    "\n",
    "# проверка 1.3 (смещенная дисперсия)\n",
    "print(\"The biased dispersion is = \", listnumbers[0].var(ddof=0)) \n",
    "\n",
    "# проверка 1.4  (несмещенная дисперсия)\n",
    "print(\"The unbiased dispersion is = \", listnumbers[0].var(ddof=1))"
   ]
  },
  {
   "cell_type": "code",
   "execution_count": 10,
   "id": "257d1da0",
   "metadata": {},
   "outputs": [],
   "source": [
    "# Задание 2"
   ]
  },
  {
   "cell_type": "code",
   "execution_count": 11,
   "id": "ef8beb3b",
   "metadata": {},
   "outputs": [
    {
     "data": {
      "text/plain": [
       "(42.0, 81.0)"
      ]
     },
     "execution_count": 11,
     "metadata": {},
     "output_type": "execute_result"
    }
   ],
   "source": [
    "(quartile_1, quartile_3) =  listnumbers[0].quantile([0.25, 0.75])\n",
    "(quartile_1, quartile_3)"
   ]
  },
  {
   "cell_type": "code",
   "execution_count": 12,
   "id": "8720fda7",
   "metadata": {},
   "outputs": [
    {
     "data": {
      "text/plain": [
       "39.0"
      ]
     },
     "execution_count": 12,
     "metadata": {},
     "output_type": "execute_result"
    }
   ],
   "source": [
    "interquartile_dist = quartile_3 - quartile_1\n",
    "interquartile_dist"
   ]
  },
  {
   "cell_type": "code",
   "execution_count": 13,
   "id": "2f469d22",
   "metadata": {},
   "outputs": [
    {
     "data": {
      "text/plain": [
       "<AxesSubplot:>"
      ]
     },
     "execution_count": 13,
     "metadata": {},
     "output_type": "execute_result"
    },
    {
     "data": {
      "image/png": "[encoded data removed]",
      "text/plain": [
       "<Figure size 432x288 with 1 Axes>"
      ]
     },
     "metadata": {
      "needs_background": "light"
     },
     "output_type": "display_data"
    }
   ],
   "source": [
    "listnumbers[0].hist(bins=20)"
   ]
  },
  {
   "cell_type": "code",
   "execution_count": 14,
   "id": "1b66842e",
   "metadata": {},
   "outputs": [
    {
     "data": {
      "text/plain": [
       "<AxesSubplot:>"
      ]
     },
     "execution_count": 14,
     "metadata": {},
     "output_type": "execute_result"
    },
    {
     "data": {
      "image/png": "[encoded data removed]",
      "text/plain": [
       "<Figure size 432x288 with 1 Axes>"
      ]
     },
     "metadata": {
      "needs_background": "light"
     },
     "output_type": "display_data"
    }
   ],
   "source": [
    "listnumbers[[0]].boxplot()"
   ]
  },
  {
   "cell_type": "code",
   "execution_count": 15,
   "id": "91f71ad5",
   "metadata": {},
   "outputs": [
    {
     "data": {
      "text/plain": [
       "(-16.5, 139.5)"
      ]
     },
     "execution_count": 15,
     "metadata": {},
     "output_type": "execute_result"
    }
   ],
   "source": [
    "boxplot_range = (quartile_1 - 1.5 * interquartile_dist, quartile_3 + 1.5 * interquartile_dist)\n",
    "boxplot_range"
   ]
  },
  {
   "cell_type": "code",
   "execution_count": null,
   "id": "6590dde4",
   "metadata": {},
   "outputs": [],
   "source": []
  }
 ],
 "metadata": {
  "kernelspec": {
   "display_name": "Python 3 (ipykernel)",
   "language": "python",
   "name": "python3"
  },
  "language_info": {
   "codemirror_mode": {
    "name": "ipython",
    "version": 3
   },
   "file_extension": ".py",
   "mimetype": "text/x-python",
   "name": "python",
   "nbconvert_exporter": "python",
   "pygments_lexer": "ipython3",
   "version": "3.9.2"
  }
 },
 "nbformat": 4,
 "nbformat_minor": 5
}
